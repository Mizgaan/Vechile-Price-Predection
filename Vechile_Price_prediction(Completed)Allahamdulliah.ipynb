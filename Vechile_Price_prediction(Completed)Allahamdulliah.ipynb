{
 "cells": [
  {
   "cell_type": "code",
   "execution_count": 383,
   "metadata": {},
   "outputs": [],
   "source": [
    "#Data Analysis Phase\n",
    "#Main Aim is to understnad more about the data\n",
    "\n",
    "import pandas as pd\n",
    "import numpy as np\n",
    "import matplotlib.pyplot as plt\n",
    "import seaborn as sns\n",
    "\n",
    "\n",
    "%matplotlib inline\n",
    "\n",
    "##Display all the columns in Data Frame\n",
    "\n",
    "pd.pandas.set_option('display.max_columns',None)"
   ]
  },
  {
   "cell_type": "code",
   "execution_count": 4,
   "metadata": {},
   "outputs": [
    {
     "name": "stdout",
     "output_type": "stream",
     "text": [
      "(6331, 4)\n"
     ]
    },
    {
     "data": {
      "text/html": [
       "<div>\n",
       "<style scoped>\n",
       "    .dataframe tbody tr th:only-of-type {\n",
       "        vertical-align: middle;\n",
       "    }\n",
       "\n",
       "    .dataframe tbody tr th {\n",
       "        vertical-align: top;\n",
       "    }\n",
       "\n",
       "    .dataframe thead th {\n",
       "        text-align: right;\n",
       "    }\n",
       "</style>\n",
       "<table border=\"1\" class=\"dataframe\">\n",
       "  <thead>\n",
       "    <tr style=\"text-align: right;\">\n",
       "      <th></th>\n",
       "      <th>vehicle_id</th>\n",
       "      <th>Curb_Weight</th>\n",
       "      <th>Price_USD</th>\n",
       "      <th>year</th>\n",
       "    </tr>\n",
       "  </thead>\n",
       "  <tbody>\n",
       "    <tr>\n",
       "      <th>0</th>\n",
       "      <td>2</td>\n",
       "      <td>1729.0</td>\n",
       "      <td>33285.00000</td>\n",
       "      <td>2010</td>\n",
       "    </tr>\n",
       "    <tr>\n",
       "      <th>1</th>\n",
       "      <td>4</td>\n",
       "      <td>1305.0</td>\n",
       "      <td>24535.71429</td>\n",
       "      <td>2010</td>\n",
       "    </tr>\n",
       "    <tr>\n",
       "      <th>2</th>\n",
       "      <td>5</td>\n",
       "      <td>1305.0</td>\n",
       "      <td>26268.75000</td>\n",
       "      <td>2010</td>\n",
       "    </tr>\n",
       "    <tr>\n",
       "      <th>3</th>\n",
       "      <td>8</td>\n",
       "      <td>1725.0</td>\n",
       "      <td>35925.00000</td>\n",
       "      <td>2010</td>\n",
       "    </tr>\n",
       "    <tr>\n",
       "      <th>4</th>\n",
       "      <td>9</td>\n",
       "      <td>1574.0</td>\n",
       "      <td>26780.00000</td>\n",
       "      <td>2010</td>\n",
       "    </tr>\n",
       "  </tbody>\n",
       "</table>\n",
       "</div>"
      ],
      "text/plain": [
       "   vehicle_id  Curb_Weight    Price_USD  year\n",
       "0           2       1729.0  33285.00000  2010\n",
       "1           4       1305.0  24535.71429  2010\n",
       "2           5       1305.0  26268.75000  2010\n",
       "3           8       1725.0  35925.00000  2010\n",
       "4           9       1574.0  26780.00000  2010"
      ]
     },
     "execution_count": 4,
     "metadata": {},
     "output_type": "execute_result"
    }
   ],
   "source": [
    "dataset=pd.read_csv(r'C:\\Users\\Mizgaan\\Downloads\\Data_Sets\\train_sample(1).csv')\n",
    "\n",
    "print(dataset.shape)\n",
    "dataset.head()\n"
   ]
  },
  {
   "cell_type": "code",
   "execution_count": 33,
   "metadata": {},
   "outputs": [
    {
     "data": {
      "text/html": [
       "<div>\n",
       "<style scoped>\n",
       "    .dataframe tbody tr th:only-of-type {\n",
       "        vertical-align: middle;\n",
       "    }\n",
       "\n",
       "    .dataframe tbody tr th {\n",
       "        vertical-align: top;\n",
       "    }\n",
       "\n",
       "    .dataframe thead th {\n",
       "        text-align: right;\n",
       "    }\n",
       "</style>\n",
       "<table border=\"1\" class=\"dataframe\">\n",
       "  <thead>\n",
       "    <tr style=\"text-align: right;\">\n",
       "      <th></th>\n",
       "      <th>vehicle_id</th>\n",
       "      <th>Curb_Weight</th>\n",
       "      <th>Price_USD</th>\n",
       "      <th>year</th>\n",
       "    </tr>\n",
       "  </thead>\n",
       "  <tbody>\n",
       "    <tr>\n",
       "      <th>count</th>\n",
       "      <td>6331.000000</td>\n",
       "      <td>6331.000000</td>\n",
       "      <td>6331.000000</td>\n",
       "      <td>6331.000000</td>\n",
       "    </tr>\n",
       "    <tr>\n",
       "      <th>mean</th>\n",
       "      <td>10354.769547</td>\n",
       "      <td>1896.920588</td>\n",
       "      <td>43033.739666</td>\n",
       "      <td>2010.676828</td>\n",
       "    </tr>\n",
       "    <tr>\n",
       "      <th>std</th>\n",
       "      <td>6542.638421</td>\n",
       "      <td>534.732810</td>\n",
       "      <td>41798.498950</td>\n",
       "      <td>0.804292</td>\n",
       "    </tr>\n",
       "    <tr>\n",
       "      <th>min</th>\n",
       "      <td>2.000000</td>\n",
       "      <td>749.000000</td>\n",
       "      <td>9970.000000</td>\n",
       "      <td>2010.000000</td>\n",
       "    </tr>\n",
       "    <tr>\n",
       "      <th>25%</th>\n",
       "      <td>3207.500000</td>\n",
       "      <td>1504.841166</td>\n",
       "      <td>24510.000000</td>\n",
       "      <td>2010.000000</td>\n",
       "    </tr>\n",
       "    <tr>\n",
       "      <th>50%</th>\n",
       "      <td>11610.000000</td>\n",
       "      <td>1773.000000</td>\n",
       "      <td>32645.000000</td>\n",
       "      <td>2010.000000</td>\n",
       "    </tr>\n",
       "    <tr>\n",
       "      <th>75%</th>\n",
       "      <td>15740.500000</td>\n",
       "      <td>2173.240917</td>\n",
       "      <td>45227.500000</td>\n",
       "      <td>2011.000000</td>\n",
       "    </tr>\n",
       "    <tr>\n",
       "      <th>max</th>\n",
       "      <td>20083.000000</td>\n",
       "      <td>3674.000000</td>\n",
       "      <td>507500.000000</td>\n",
       "      <td>2012.000000</td>\n",
       "    </tr>\n",
       "  </tbody>\n",
       "</table>\n",
       "</div>"
      ],
      "text/plain": [
       "         vehicle_id  Curb_Weight      Price_USD         year\n",
       "count   6331.000000  6331.000000    6331.000000  6331.000000\n",
       "mean   10354.769547  1896.920588   43033.739666  2010.676828\n",
       "std     6542.638421   534.732810   41798.498950     0.804292\n",
       "min        2.000000   749.000000    9970.000000  2010.000000\n",
       "25%     3207.500000  1504.841166   24510.000000  2010.000000\n",
       "50%    11610.000000  1773.000000   32645.000000  2010.000000\n",
       "75%    15740.500000  2173.240917   45227.500000  2011.000000\n",
       "max    20083.000000  3674.000000  507500.000000  2012.000000"
      ]
     },
     "execution_count": 33,
     "metadata": {},
     "output_type": "execute_result"
    }
   ],
   "source": [
    "dataset.describe()"
   ]
  },
  {
   "cell_type": "code",
   "execution_count": 27,
   "metadata": {},
   "outputs": [
    {
     "data": {
      "text/plain": [
       "Index(['vehicle_id', 'Curb_Weight', 'Price_USD', 'year'], dtype='object')"
      ]
     },
     "execution_count": 27,
     "metadata": {},
     "output_type": "execute_result"
    }
   ],
   "source": [
    "dataset.columns"
   ]
  },
  {
   "cell_type": "markdown",
   "metadata": {},
   "source": [
    "# Before Cleaning "
   ]
  },
  {
   "cell_type": "code",
   "execution_count": 393,
   "metadata": {},
   "outputs": [
    {
     "data": {
      "image/png": "[encoded data removed]",
      "text/plain": [
       "<Figure size 1440x576 with 2 Axes>"
      ]
     },
     "metadata": {
      "needs_background": "light"
     },
     "output_type": "display_data"
    },
    {
     "name": "stdout",
     "output_type": "stream",
     "text": [
      "32645.0\n"
     ]
    }
   ],
   "source": [
    " plt.figure(figsize=(20,8))\n",
    "plt.subplot(1,2,2)\n",
    "plt.title(\"Box_plot\")\n",
    "plt.xlabel(\"Price_USD\")\n",
    "sns.boxplot(y=dataset.Price_USD)\n",
    "\n",
    "\n",
    "plt.subplot(1,2,1)\n",
    "sns.distplot(dataset.Price_USD)\n",
    "plt.grid()\n",
    "plt.show()\n",
    "print(dataset['Price_USD'].median())"
   ]
  },
  {
   "cell_type": "code",
   "execution_count": 203,
   "metadata": {},
   "outputs": [
    {
     "name": "stdout",
     "output_type": "stream",
     "text": [
      "45037.25969615 - 24457.3142249 =  20579.94547125 (Interquantile Range)\n",
      "lower_Whisker=-6412.603981975  \n",
      " upper_Whisker= 75907.177903025\n"
     ]
    }
   ],
   "source": [
    "Q1 = dataset.Price_USD.quantile(0.2465)\n",
    "Q3 = dataset.Price_USD.quantile(0.7465)\n",
    "#Interquanatile Range\n",
    "IQR = Q3 - Q1\n",
    "print(Q3,'-',Q1,'= ',IQR,'(Interquantile Range)')\n",
    "\n",
    "\n",
    "#Upper Whisker And Lower Whisker\n",
    "\n",
    "lower_Whisker=Q1-(1.5*IQR)\n",
    "upper_Whisker=Q3+(1.5*IQR) \n",
    "print(\"lower_Whisker={} \".format(lower_Whisker),'\\n upper_Whisker= {}'.format(upper_Whisker))\n"
   ]
  },
  {
   "cell_type": "markdown",
   "metadata": {},
   "source": [
    "# we can plot each of these fearues"
   ]
  },
  {
   "cell_type": "code",
   "execution_count": 51,
   "metadata": {},
   "outputs": [
    {
     "data": {
      "image/png": "[encoded data removed]",
      "text/plain": [
       "<Figure size 720x720 with 4 Axes>"
      ]
     },
     "metadata": {
      "needs_background": "light"
     },
     "output_type": "display_data"
    }
   ],
   "source": [
    "data=dataset[['vehicle_id', 'Curb_Weight', 'Price_USD', 'year']]\n",
    "# sns.distplot(data)\n",
    "data.hist(figsize=(10,10))\n",
    "plt.show()"
   ]
  },
  {
   "cell_type": "markdown",
   "metadata": {},
   "source": [
    "# Now, lets plot each of these features vs the Emission, to see how linear is their relation:"
   ]
  },
  {
   "cell_type": "code",
   "execution_count": 57,
   "metadata": {},
   "outputs": [
    {
     "data": {
      "image/png": "[encoded data removed]",
      "text/plain": [
       "<Figure size 432x288 with 1 Axes>"
      ]
     },
     "metadata": {
      "needs_background": "light"
     },
     "output_type": "display_data"
    }
   ],
   "source": [
    "# TYPE-I\n",
    "\n",
    "plt.scatter(dataset['Curb_Weight'],dataset['Price_USD'])\n",
    "plt.xlabel('Curb_Weight')\n",
    "plt.ylabel('Price_USD')\n",
    "plt.show()"
   ]
  },
  {
   "cell_type": "code",
   "execution_count": 61,
   "metadata": {},
   "outputs": [
    {
     "data": {
      "text/plain": [
       "<matplotlib.axes._subplots.AxesSubplot at 0x27541c68b70>"
      ]
     },
     "execution_count": 61,
     "metadata": {},
     "output_type": "execute_result"
    },
    {
     "data": {
      "image/png": "[encoded data removed]",
      "text/plain": [
       "<Figure size 432x288 with 1 Axes>"
      ]
     },
     "metadata": {
      "needs_background": "light"
     },
     "output_type": "display_data"
    }
   ],
   "source": [
    "# plt.scatter(dataset['year'],dataset['Price_USD'])\n",
    "# plt.show()\n",
    "\n",
    "sns.regplot(x='year',y='Price_USD',data=dataset)"
   ]
  },
  {
   "cell_type": "code",
   "execution_count": 44,
   "metadata": {},
   "outputs": [
    {
     "data": {
      "text/plain": [
       "1773.0"
      ]
     },
     "execution_count": 44,
     "metadata": {},
     "output_type": "execute_result"
    },
    {
     "data": {
      "image/png": "[encoded data removed]",
      "text/plain": [
       "<Figure size 720x576 with 2 Axes>"
      ]
     },
     "metadata": {
      "needs_background": "light"
     },
     "output_type": "display_data"
    }
   ],
   "source": [
    "plt.figure(figsize=(10,8))\n",
    "plt.subplot(1,2,1)\n",
    "sns.distplot(dataset[\"Curb_Weight\"],hist=True,rug=True)\n",
    "\n",
    "plt.subplot(1,2,2)\n",
    "sns.boxplot(y=dataset.Curb_Weight)\n",
    "dataset[\"Curb_Weight\"].median()"
   ]
  },
  {
   "cell_type": "code",
   "execution_count": 77,
   "metadata": {},
   "outputs": [
    {
     "name": "stdout",
     "output_type": "stream",
     "text": [
      "2160.0 - 1501.53468407 =  658.4653159300001 (Interquantile Range)\n",
      "lower_Whisker=513.8367101749998  \n",
      " upper_Whisker= 3147.6979738950004\n"
     ]
    }
   ],
   "source": [
    "Q1 = dataset.Curb_Weight.quantile(0.2465)\n",
    "Q3 = dataset.Curb_Weight.quantile(0.7465)\n",
    "#Interquanatile Range\n",
    "IQR = Q3 - Q1\n",
    "print(Q3,'-',Q1,'= ',IQR,'(Interquantile Range)')\n",
    "\n",
    "\n",
    "#Upper Whisker And Lower Whisker\n",
    "\n",
    "lower_Whisker=Q1-(1.5*IQR)\n",
    "upper_Whisker=Q3+(1.5*IQR) \n",
    "print(\"lower_Whisker={} \".format(lower_Whisker),'\\n upper_Whisker= {}'.format(upper_Whisker))"
   ]
  },
  {
   "cell_type": "code",
   "execution_count": 17,
   "metadata": {},
   "outputs": [
    {
     "data": {
      "text/plain": [
       "<matplotlib.axes._subplots.AxesSubplot at 0x21ae3b1fc18>"
      ]
     },
     "execution_count": 17,
     "metadata": {},
     "output_type": "execute_result"
    },
    {
     "data": {
      "image/png": "[encoded data removed]",
      "text/plain": [
       "<Figure size 576x576 with 2 Axes>"
      ]
     },
     "metadata": {
      "needs_background": "light"
     },
     "output_type": "display_data"
    }
   ],
   "source": [
    "plt.figure(figsize=(8,8))\n",
    "sns.heatmap(dataset.drop(['vehicle_id'],axis=1).corr(), annot=True)"
   ]
  },
  {
   "cell_type": "code",
   "execution_count": null,
   "metadata": {},
   "outputs": [],
   "source": []
  },
  {
   "cell_type": "code",
   "execution_count": 20,
   "metadata": {},
   "outputs": [
    {
     "name": "stdout",
     "output_type": "stream",
     "text": [
      "count      6331.000000\n",
      "mean      43033.739666\n",
      "std       41798.498950\n",
      "min        9970.000000\n",
      "25%       24510.000000\n",
      "50%       32645.000000\n",
      "75%       45227.500000\n",
      "85%       54372.500000\n",
      "90%       65220.000000\n",
      "95%       99115.000000\n",
      "max      507500.000000\n",
      "Name: Price_USD, dtype: float64\n"
     ]
    },
    {
     "data": {
      "text/plain": [
       "99115.0"
      ]
     },
     "execution_count": 20,
     "metadata": {},
     "output_type": "execute_result"
    }
   ],
   "source": [
    "print(dataset.Price_USD.describe(percentiles = [0.25,0.50,0.75,0.85,0.90,0.95]))\n",
    "np.percentile(dataset[\"Price_USD\"],95)"
   ]
  },
  {
   "cell_type": "markdown",
   "metadata": {},
   "source": [
    "# Cleaning The Data"
   ]
  },
  {
   "cell_type": "code",
   "execution_count": 21,
   "metadata": {},
   "outputs": [],
   "source": [
    "data=dataset.copy()\n",
    "clean_data=data[data[\"Price_USD\"] < np.percentile(data['Price_USD'],95)]"
   ]
  },
  {
   "cell_type": "code",
   "execution_count": 22,
   "metadata": {},
   "outputs": [
    {
     "data": {
      "text/html": [
       "<div>\n",
       "<style scoped>\n",
       "    .dataframe tbody tr th:only-of-type {\n",
       "        vertical-align: middle;\n",
       "    }\n",
       "\n",
       "    .dataframe tbody tr th {\n",
       "        vertical-align: top;\n",
       "    }\n",
       "\n",
       "    .dataframe thead th {\n",
       "        text-align: right;\n",
       "    }\n",
       "</style>\n",
       "<table border=\"1\" class=\"dataframe\">\n",
       "  <thead>\n",
       "    <tr style=\"text-align: right;\">\n",
       "      <th></th>\n",
       "      <th>vehicle_id</th>\n",
       "      <th>Curb_Weight</th>\n",
       "      <th>Price_USD</th>\n",
       "      <th>year</th>\n",
       "    </tr>\n",
       "  </thead>\n",
       "  <tbody>\n",
       "    <tr>\n",
       "      <th>count</th>\n",
       "      <td>6014.000000</td>\n",
       "      <td>6014.000000</td>\n",
       "      <td>6014.000000</td>\n",
       "      <td>6014.000000</td>\n",
       "    </tr>\n",
       "    <tr>\n",
       "      <th>mean</th>\n",
       "      <td>10323.303791</td>\n",
       "      <td>1895.375190</td>\n",
       "      <td>35413.097838</td>\n",
       "      <td>2010.676588</td>\n",
       "    </tr>\n",
       "    <tr>\n",
       "      <th>std</th>\n",
       "      <td>6573.004019</td>\n",
       "      <td>541.208682</td>\n",
       "      <td>15818.639106</td>\n",
       "      <td>0.805969</td>\n",
       "    </tr>\n",
       "    <tr>\n",
       "      <th>min</th>\n",
       "      <td>2.000000</td>\n",
       "      <td>749.000000</td>\n",
       "      <td>9970.000000</td>\n",
       "      <td>2010.000000</td>\n",
       "    </tr>\n",
       "    <tr>\n",
       "      <th>25%</th>\n",
       "      <td>3149.500000</td>\n",
       "      <td>1498.019477</td>\n",
       "      <td>24211.940787</td>\n",
       "      <td>2010.000000</td>\n",
       "    </tr>\n",
       "    <tr>\n",
       "      <th>50%</th>\n",
       "      <td>11574.500000</td>\n",
       "      <td>1768.160218</td>\n",
       "      <td>31697.500000</td>\n",
       "      <td>2010.000000</td>\n",
       "    </tr>\n",
       "    <tr>\n",
       "      <th>75%</th>\n",
       "      <td>15733.750000</td>\n",
       "      <td>2167.929723</td>\n",
       "      <td>42881.875000</td>\n",
       "      <td>2011.000000</td>\n",
       "    </tr>\n",
       "    <tr>\n",
       "      <th>max</th>\n",
       "      <td>20083.000000</td>\n",
       "      <td>3674.000000</td>\n",
       "      <td>99050.000000</td>\n",
       "      <td>2012.000000</td>\n",
       "    </tr>\n",
       "  </tbody>\n",
       "</table>\n",
       "</div>"
      ],
      "text/plain": [
       "         vehicle_id  Curb_Weight     Price_USD         year\n",
       "count   6014.000000  6014.000000   6014.000000  6014.000000\n",
       "mean   10323.303791  1895.375190  35413.097838  2010.676588\n",
       "std     6573.004019   541.208682  15818.639106     0.805969\n",
       "min        2.000000   749.000000   9970.000000  2010.000000\n",
       "25%     3149.500000  1498.019477  24211.940787  2010.000000\n",
       "50%    11574.500000  1768.160218  31697.500000  2010.000000\n",
       "75%    15733.750000  2167.929723  42881.875000  2011.000000\n",
       "max    20083.000000  3674.000000  99050.000000  2012.000000"
      ]
     },
     "execution_count": 22,
     "metadata": {},
     "output_type": "execute_result"
    }
   ],
   "source": [
    "clean_data.describe()"
   ]
  },
  {
   "cell_type": "code",
   "execution_count": 220,
   "metadata": {},
   "outputs": [
    {
     "name": "stdout",
     "output_type": "stream",
     "text": [
      "<class 'pandas.core.frame.DataFrame'>\n",
      "Int64Index: 5463 entries, 0 to 6330\n",
      "Data columns (total 4 columns):\n",
      "vehicle_id     5463 non-null int64\n",
      "Curb_Weight    5463 non-null float64\n",
      "Price_USD      5463 non-null float64\n",
      "year           5463 non-null int64\n",
      "dtypes: float64(2), int64(2)\n",
      "memory usage: 213.4 KB\n"
     ]
    }
   ],
   "source": [
    "clean_data.info()"
   ]
  },
  {
   "cell_type": "code",
   "execution_count": 24,
   "metadata": {},
   "outputs": [
    {
     "data": {
      "text/plain": [
       "array([[<matplotlib.axes._subplots.AxesSubplot object at 0x0000021AE4BE4A90>,\n",
       "        <matplotlib.axes._subplots.AxesSubplot object at 0x0000021AE42D0C18>],\n",
       "       [<matplotlib.axes._subplots.AxesSubplot object at 0x0000021AE42BC7F0>,\n",
       "        <matplotlib.axes._subplots.AxesSubplot object at 0x0000021AE3CC89E8>]],\n",
       "      dtype=object)"
      ]
     },
     "execution_count": 24,
     "metadata": {},
     "output_type": "execute_result"
    },
    {
     "data": {
      "image/png": "[encoded data removed]",
      "text/plain": [
       "<Figure size 432x288 with 4 Axes>"
      ]
     },
     "metadata": {
      "needs_background": "light"
     },
     "output_type": "display_data"
    }
   ],
   "source": [
    "clean_data[['Curb_Weight', 'Price_USD', 'year']].hist()\n"
   ]
  },
  {
   "cell_type": "code",
   "execution_count": 27,
   "metadata": {},
   "outputs": [
    {
     "data": {
      "text/plain": [
       "<matplotlib.axes._subplots.AxesSubplot at 0x21ae4d5e908>"
      ]
     },
     "execution_count": 27,
     "metadata": {},
     "output_type": "execute_result"
    },
    {
     "data": {
      "image/png": "[encoded data removed]",
      "text/plain": [
       "<Figure size 432x288 with 1 Axes>"
      ]
     },
     "metadata": {
      "needs_background": "light"
     },
     "output_type": "display_data"
    }
   ],
   "source": [
    "sns.regplot(x='Curb_Weight',y='Price_USD',data=clean_data)"
   ]
  },
  {
   "cell_type": "code",
   "execution_count": 54,
   "metadata": {},
   "outputs": [
    {
     "data": {
      "text/plain": [
       "31697.5"
      ]
     },
     "execution_count": 54,
     "metadata": {},
     "output_type": "execute_result"
    },
    {
     "data": {
      "image/png": "[encoded data removed]",
      "text/plain": [
       "<Figure size 720x576 with 2 Axes>"
      ]
     },
     "metadata": {
      "needs_background": "light"
     },
     "output_type": "display_data"
    }
   ],
   "source": [
    "plt.figure(figsize=(10,8))\n",
    "plt.subplot(1,2,1)\n",
    "sns.boxplot(y=clean_data.Price_USD)\n",
    "\n",
    "plt.subplot(1,2,2)\n",
    "sns.distplot(clean_data.Price_USD)\n",
    "clean_data['Price_USD'].median()"
   ]
  },
  {
   "cell_type": "code",
   "execution_count": 127,
   "metadata": {},
   "outputs": [
    {
     "data": {
      "text/plain": [
       "1773.0"
      ]
     },
     "execution_count": 127,
     "metadata": {},
     "output_type": "execute_result"
    },
    {
     "data": {
      "image/png": "[encoded data removed]",
      "text/plain": [
       "<Figure size 720x720 with 2 Axes>"
      ]
     },
     "metadata": {
      "needs_background": "light"
     },
     "output_type": "display_data"
    }
   ],
   "source": [
    "plt.figure(figsize=(10,10))\n",
    "plt.subplot(1,2,1)\n",
    "sns.distplot(clean_data[\"Curb_Weight\"],hist=True,rug=True)\n",
    "\n",
    "plt.subplot(1,2,2)\n",
    "sns.boxplot(y=clean_data.Curb_Weight)\n",
    "dataset[\"Curb_Weight\"].median()"
   ]
  },
  {
   "cell_type": "code",
   "execution_count": 205,
   "metadata": {},
   "outputs": [],
   "source": [
    "# Q1 = clean_data.Curb_Weight.quantile(0.2465)\n",
    "# Q3 = clean_data.Curb_Weight.quantile(0.7465)\n",
    "# #Interquanatile Range\n",
    "# IQR = Q3 - Q1\n",
    "# print(Q3,'-',Q1,'= ',IQR,'(Interquantile Range)')\n",
    "\n",
    "\n",
    "# #Upper Whisker And Lower Whisker\n",
    "\n",
    "# lower_Whisker=Q1-(1.5*IQR)\n",
    "# upper_Whisker=Q3+(1.5*IQR) \n",
    "# print(\"lower_Whisker={} \".format(lower_Whisker),'\\n upper_Whisker= {}'.format(upper_Whisker))\n",
    "\n",
    "# clean_data_outlir =clean_data.loc[(clean_data.Curb_Weight > lower_Whisker) & (clean_data.Curb_Weight < upper_Whisker) ]\n"
   ]
  },
  {
   "cell_type": "code",
   "execution_count": 212,
   "metadata": {},
   "outputs": [],
   "source": [
    "# plt.figure(figsize=(10,8))\n",
    "# plt.subplot(1,2,1)\n",
    "# sns.boxplot(y=clean_data_outlir.Curb_Weight)\n",
    "\n",
    "# plt.subplot(1,2,2)\n",
    "# sns.distplot((clean_data_outlir.Curb_Weight))\n",
    "# np.log(clean_data_outlir.Curb_Weight)"
   ]
  },
  {
   "cell_type": "code",
   "execution_count": 204,
   "metadata": {},
   "outputs": [],
   "source": [
    "# data=dataset['vehicle_id', 'Curb_Weight', 'Price_USD', 'year']\n",
    "# for columns in data:\n",
    "#     sns.distplot(data[columns])\n",
    "\n",
    "# sns.distplot(clean_data_outlir['Price_USD'])"
   ]
  },
  {
   "cell_type": "markdown",
   "metadata": {},
   "source": [
    "# Detecting Outliers Using Z-Score"
   ]
  },
  {
   "cell_type": "code",
   "execution_count": 80,
   "metadata": {},
   "outputs": [
    {
     "name": "stdout",
     "output_type": "stream",
     "text": [
      "[[1.5703873  0.30743968 0.13454222 0.83954095]\n",
      " [1.570083   1.09093645 0.68768798 0.83954095]\n",
      " [1.56993085 1.09093645 0.57812231 0.83954095]\n",
      " ...\n",
      " [1.4838736  1.49053758 1.29205814 1.64214952]\n",
      " [1.4841779  1.42955788 1.1479124  1.64214952]\n",
      " [1.48493865 0.19177927 1.34573347 1.64214952]]\n"
     ]
    }
   ],
   "source": [
    "from scipy import stats\n",
    "import numpy as np\n",
    "z = np.abs(stats.zscore(clean_data))\n",
    "print(z)"
   ]
  },
  {
   "cell_type": "code",
   "execution_count": null,
   "metadata": {},
   "outputs": [],
   "source": [
    "## if the Z-score value is greater than or less than 3 or -3 respectively, that data point will be identified as outliers."
   ]
  },
  {
   "cell_type": "code",
   "execution_count": 84,
   "metadata": {},
   "outputs": [
    {
     "name": "stdout",
     "output_type": "stream",
     "text": [
      "(array([  58,   61,   72,   73,   77,   78,  156,  157,  158,  245,  309,\n",
      "        333,  703,  713,  718,  719,  721,  875,  920,  921,  922,  923,\n",
      "        924,  925,  926,  927,  930,  932,  955,  957, 1092, 1221, 1222,\n",
      "       1404, 1411, 1421, 1738, 1739, 1744, 1745, 2071, 2077, 2078, 2079,\n",
      "       2080, 2155, 2156, 2173, 2193, 2208, 2216, 2371, 2372, 2398, 2407,\n",
      "       2409, 2410, 2412, 2523, 2540, 2544, 2552, 2559, 2590, 2600, 2634,\n",
      "       2766, 2792, 2832, 2844, 2859, 2861, 2910, 2998, 3007, 3057, 3154,\n",
      "       3161, 3163, 3185, 3192, 3240, 3274, 3324, 3334, 3335, 3360, 3403,\n",
      "       3404, 3436, 3437, 3487, 3489, 3548, 3619, 3667, 3677, 3838, 3839,\n",
      "       3840, 3843, 3849, 3852, 3853, 3865, 3877, 4178, 4219, 4446, 4499,\n",
      "       4587, 4602, 4610, 4645, 4652, 4653, 4654, 4656, 4672, 4676, 4680,\n",
      "       4758, 4786, 4914, 4969, 4984, 5049, 5052, 5053, 5131, 5167, 5194,\n",
      "       5212, 5234, 5252, 5377, 5409, 5461, 5464, 5496, 5512, 5528, 5582,\n",
      "       5591, 5602, 5608, 5645, 5651, 5676, 5680, 5752, 5774, 5778, 5784,\n",
      "       5788, 5792, 5812, 5863, 5885, 6009], dtype=int64), array([2, 2, 2, 2, 2, 2, 2, 2, 2, 2, 2, 2, 2, 2, 2, 2, 2, 2, 2, 2, 2, 2,\n",
      "       2, 2, 2, 2, 2, 2, 2, 2, 2, 2, 2, 2, 2, 2, 2, 2, 2, 2, 2, 2, 2, 2,\n",
      "       2, 2, 2, 2, 2, 2, 2, 2, 2, 2, 2, 2, 2, 2, 2, 2, 2, 2, 2, 2, 2, 2,\n",
      "       2, 2, 2, 2, 2, 2, 2, 2, 2, 2, 2, 2, 2, 2, 2, 2, 2, 2, 2, 2, 2, 2,\n",
      "       2, 2, 2, 2, 2, 2, 2, 2, 2, 1, 1, 1, 1, 1, 1, 1, 1, 1, 2, 2, 2, 2,\n",
      "       2, 2, 2, 2, 2, 2, 2, 2, 2, 2, 2, 2, 2, 2, 2, 2, 2, 2, 2, 2, 2, 2,\n",
      "       2, 2, 2, 2, 1, 2, 1, 2, 2, 1, 2, 2, 2, 2, 2, 2, 2, 2, 2, 1, 1, 1,\n",
      "       1, 1, 1, 2, 1, 2], dtype=int64))\n"
     ]
    }
   ],
   "source": [
    "threshold = 3\n",
    "print(np.where(z > 3))"
   ]
  },
  {
   "cell_type": "code",
   "execution_count": 63,
   "metadata": {},
   "outputs": [
    {
     "name": "stdout",
     "output_type": "stream",
     "text": [
      "3.413150195484883\n"
     ]
    }
   ],
   "source": [
    "print(z[58][2])"
   ]
  },
  {
   "cell_type": "code",
   "execution_count": 206,
   "metadata": {},
   "outputs": [],
   "source": [
    "# data=dataset['vehicle_id', 'Curb_Weight', 'Price_USD', 'year']\n",
    "# for columns in data:\n",
    "#     sns.distplot(data[columns])\n",
    "\n",
    "# sns.distplot(dataset['Price_USD'])"
   ]
  },
  {
   "cell_type": "markdown",
   "metadata": {},
   "source": [
    "# Removing Outliers"
   ]
  },
  {
   "cell_type": "code",
   "execution_count": 200,
   "metadata": {},
   "outputs": [],
   "source": [
    "def remove_outlier(data_in, col_name):\n",
    "    Q1 = data_in[col_name].quantile(0.2465)\n",
    "    Q3 = data_in[col_name].quantile(0.7465)\n",
    "    #Interquanatile Range\n",
    "    IQR = Q3 - Q1\n",
    "    print(Q3,'-',Q1,'= ',IQR,'(Interquantile Range)')\n",
    "    \n",
    "    #Upper Whisker And Lower Whisker\n",
    "\n",
    "    lower_Whisker=Q1-(1.5*IQR)\n",
    "    upper_Whisker=Q3+(1.5*IQR) \n",
    "    print(\"lower_Whisker={} \".format(lower_Whisker),'\\n upper_Whisker= {}'.format(upper_Whisker))\n",
    "   \n",
    "    df_out = data_in.loc[(data_in[col_name] > lower_Whisker) & (data_in[col_name] <= upper_Whisker)]\n",
    "    return df_out"
   ]
  },
  {
   "cell_type": "code",
   "execution_count": 208,
   "metadata": {},
   "outputs": [
    {
     "name": "stdout",
     "output_type": "stream",
     "text": [
      "42738.52250000001 - 24097.045 =  18641.477500000008 (Interquantile Range)\n",
      "lower_Whisker=-3865.171250000014  \n",
      " upper_Whisker= 70700.73875000002\n"
     ]
    },
    {
     "data": {
      "text/plain": [
       "<matplotlib.axes._subplots.AxesSubplot at 0x21aea49b0b8>"
      ]
     },
     "execution_count": 208,
     "metadata": {},
     "output_type": "execute_result"
    },
    {
     "data": {
      "image/png": "[encoded data removed]",
      "text/plain": [
       "<Figure size 432x288 with 1 Axes>"
      ]
     },
     "metadata": {
      "needs_background": "light"
     },
     "output_type": "display_data"
    }
   ],
   "source": [
    "clean_data=remove_outlier(clean_data, \"Price_USD\")\n",
    "sns.boxplot(y=clean_data.Price_USD)"
   ]
  },
  {
   "cell_type": "code",
   "execution_count": 209,
   "metadata": {},
   "outputs": [
    {
     "name": "stdout",
     "output_type": "stream",
     "text": [
      "2155.238704983 - 1491.8494501145 =  663.3892548684998 (Interquantile Range)\n",
      "lower_Whisker=496.7655678117503  \n",
      " upper_Whisker= 3150.3225872857497\n"
     ]
    },
    {
     "data": {
      "text/plain": [
       "<matplotlib.axes._subplots.AxesSubplot at 0x21ae6ea2358>"
      ]
     },
     "execution_count": 209,
     "metadata": {},
     "output_type": "execute_result"
    },
    {
     "data": {
      "image/png": "[encoded data removed]",
      "text/plain": [
       "<Figure size 432x288 with 1 Axes>"
      ]
     },
     "metadata": {
      "needs_background": "light"
     },
     "output_type": "display_data"
    }
   ],
   "source": [
    "clean_data = remove_outlier(clean_data,\"Curb_Weight\")\n",
    "sns.regplot(x=\"Curb_Weight\", y=\"Price_USD\", data=clean_data)"
   ]
  },
  {
   "cell_type": "code",
   "execution_count": 210,
   "metadata": {},
   "outputs": [
    {
     "name": "stdout",
     "output_type": "stream",
     "text": [
      "39800.89 - 23499.089 =  16301.801 (Interquantile Range)\n",
      "lower_Whisker=-953.6124999999993  \n",
      " upper_Whisker= 64253.591499999995\n"
     ]
    },
    {
     "data": {
      "text/plain": [
       "<matplotlib.axes._subplots.AxesSubplot at 0x21ae6a14e48>"
      ]
     },
     "execution_count": 210,
     "metadata": {},
     "output_type": "execute_result"
    },
    {
     "data": {
      "image/png": "[encoded data removed]",
      "text/plain": [
       "<Figure size 432x288 with 1 Axes>"
      ]
     },
     "metadata": {
      "needs_background": "light"
     },
     "output_type": "display_data"
    }
   ],
   "source": [
    "clean_data = remove_outlier(clean_data,\"Price_USD\")\n",
    "sns.boxplot(y=clean_data.Price_USD)"
   ]
  },
  {
   "cell_type": "code",
   "execution_count": 211,
   "metadata": {},
   "outputs": [
    {
     "data": {
      "text/html": [
       "<div>\n",
       "<style scoped>\n",
       "    .dataframe tbody tr th:only-of-type {\n",
       "        vertical-align: middle;\n",
       "    }\n",
       "\n",
       "    .dataframe tbody tr th {\n",
       "        vertical-align: top;\n",
       "    }\n",
       "\n",
       "    .dataframe thead th {\n",
       "        text-align: right;\n",
       "    }\n",
       "</style>\n",
       "<table border=\"1\" class=\"dataframe\">\n",
       "  <thead>\n",
       "    <tr style=\"text-align: right;\">\n",
       "      <th></th>\n",
       "      <th>vehicle_id</th>\n",
       "      <th>Curb_Weight</th>\n",
       "      <th>Price_USD</th>\n",
       "      <th>year</th>\n",
       "    </tr>\n",
       "  </thead>\n",
       "  <tbody>\n",
       "    <tr>\n",
       "      <th>count</th>\n",
       "      <td>5463.000000</td>\n",
       "      <td>5463.000000</td>\n",
       "      <td>5463.000000</td>\n",
       "      <td>5463.000000</td>\n",
       "    </tr>\n",
       "    <tr>\n",
       "      <th>mean</th>\n",
       "      <td>10077.480322</td>\n",
       "      <td>1835.374098</td>\n",
       "      <td>32199.442074</td>\n",
       "      <td>2010.647813</td>\n",
       "    </tr>\n",
       "    <tr>\n",
       "      <th>std</th>\n",
       "      <td>6558.537928</td>\n",
       "      <td>476.221233</td>\n",
       "      <td>11331.375551</td>\n",
       "      <td>0.798936</td>\n",
       "    </tr>\n",
       "    <tr>\n",
       "      <th>min</th>\n",
       "      <td>2.000000</td>\n",
       "      <td>749.000000</td>\n",
       "      <td>9970.000000</td>\n",
       "      <td>2010.000000</td>\n",
       "    </tr>\n",
       "    <tr>\n",
       "      <th>25%</th>\n",
       "      <td>3070.500000</td>\n",
       "      <td>1487.000000</td>\n",
       "      <td>23497.386750</td>\n",
       "      <td>2010.000000</td>\n",
       "    </tr>\n",
       "    <tr>\n",
       "      <th>50%</th>\n",
       "      <td>11217.000000</td>\n",
       "      <td>1734.786333</td>\n",
       "      <td>30107.796210</td>\n",
       "      <td>2010.000000</td>\n",
       "    </tr>\n",
       "    <tr>\n",
       "      <th>75%</th>\n",
       "      <td>15556.500000</td>\n",
       "      <td>2095.995810</td>\n",
       "      <td>39410.519570</td>\n",
       "      <td>2011.000000</td>\n",
       "    </tr>\n",
       "    <tr>\n",
       "      <th>max</th>\n",
       "      <td>20083.000000</td>\n",
       "      <td>3150.000000</td>\n",
       "      <td>64230.000000</td>\n",
       "      <td>2012.000000</td>\n",
       "    </tr>\n",
       "  </tbody>\n",
       "</table>\n",
       "</div>"
      ],
      "text/plain": [
       "         vehicle_id  Curb_Weight     Price_USD         year\n",
       "count   5463.000000  5463.000000   5463.000000  5463.000000\n",
       "mean   10077.480322  1835.374098  32199.442074  2010.647813\n",
       "std     6558.537928   476.221233  11331.375551     0.798936\n",
       "min        2.000000   749.000000   9970.000000  2010.000000\n",
       "25%     3070.500000  1487.000000  23497.386750  2010.000000\n",
       "50%    11217.000000  1734.786333  30107.796210  2010.000000\n",
       "75%    15556.500000  2095.995810  39410.519570  2011.000000\n",
       "max    20083.000000  3150.000000  64230.000000  2012.000000"
      ]
     },
     "execution_count": 211,
     "metadata": {},
     "output_type": "execute_result"
    }
   ],
   "source": [
    "clean_data.describe()"
   ]
  },
  {
   "cell_type": "code",
   "execution_count": 371,
   "metadata": {
    "scrolled": true
   },
   "outputs": [
    {
     "name": "stdout",
     "output_type": "stream",
     "text": [
      "Mean of Curb_Wt. 1835.3740975765159\n",
      "Mean Of Price_USD 32199.442074345585\n"
     ]
    },
    {
     "data": {
      "image/png": "[encoded data removed]",
      "text/plain": [
       "<Figure size 432x288 with 2 Axes>"
      ]
     },
     "metadata": {
      "needs_background": "light"
     },
     "output_type": "display_data"
    }
   ],
   "source": [
    "plt.subplot(2,1,1)\n",
    "plt.xlabel(\"Curb_weight\")\n",
    "plt.title(\"Crub_WEight\")\n",
    "sns.distplot(clean_data[\"Curb_Weight\"])\n",
    "print(\"Mean of Curb_Wt.\",clean_data[\"Curb_Weight\"].mean())\n",
    "\n",
    "plt.subplot(2,1,2)\n",
    "plt.xlabel(\"Price_USD\")\n",
    "plt.title(\" \\n \")\n",
    "# plt.title(\"Price\")\n",
    "sns.distplot(clean_data[\"Price_USD\"])\n",
    "\n",
    "print(\"Mean Of Price_USD\",clean_data.Price_USD.mean())"
   ]
  },
  {
   "cell_type": "code",
   "execution_count": null,
   "metadata": {},
   "outputs": [],
   "source": []
  },
  {
   "cell_type": "code",
   "execution_count": null,
   "metadata": {},
   "outputs": [],
   "source": []
  },
  {
   "cell_type": "code",
   "execution_count": null,
   "metadata": {},
   "outputs": [],
   "source": []
  },
  {
   "cell_type": "code",
   "execution_count": null,
   "metadata": {},
   "outputs": [],
   "source": []
  },
  {
   "cell_type": "markdown",
   "metadata": {},
   "source": [
    "# Modelling"
   ]
  },
  {
   "cell_type": "code",
   "execution_count": 234,
   "metadata": {},
   "outputs": [],
   "source": [
    "# train_x = np.asanyarray(train[['ENGINESIZE']])\n",
    "# train_y = np.asanyarray(train[['CO2EMISSIONS']])\n",
    "# data=dataset.copy()\n",
    "from sklearn.model_selection import train_test_split\n",
    "\n",
    "X = clean_data.iloc[:,[1,3]]\n",
    "y = clean_data.iloc[:,2]\n",
    "X_train, X_test, y_train, y_test = train_test_split(X, y, test_size=0.20, random_state=101)\n",
    "\n"
   ]
  },
  {
   "cell_type": "markdown",
   "metadata": {},
   "source": [
    "# Linear Regression "
   ]
  },
  {
   "cell_type": "code",
   "execution_count": 321,
   "metadata": {},
   "outputs": [
    {
     "name": "stdout",
     "output_type": "stream",
     "text": [
      "Coefficients:  [   14.71416848 -1077.44468471]\n",
      "Intercept:  2171538.1865484947\n",
      "Mse: 80434462.35339604\n",
      "Rmse: 8968.52620854709\n",
      "Mape: 22.46951289661096\n",
      "R-square: 0.39\n"
     ]
    }
   ],
   "source": [
    "from sklearn.metrics import mean_squared_error, r2_score\n",
    "from sklearn.linear_model import LinearRegression\n",
    "# from sklearn.utils import check_arrays\n",
    "\n",
    "regr = linear_model.LinearRegression()\n",
    "# regr=LinearRegression\n",
    "regr.fit (X_train,y_train)\n",
    "pred=regr.predict(X_test)\n",
    "# The coefficients\n",
    "print ('Coefficients: ', regr.coef_)\n",
    "print ('Intercept: ',regr.intercept_)\n",
    "    \n",
    "       \n",
    "print(\"Mse:\",mean_squared_error(y_test,pred))\n",
    "rms = np.sqrt(mean_squared_error(y_test,pred))\n",
    "print(\"Rmse:\",rms)\n",
    "print(\"Mape:\",np.mean(np.abs(y_test-pred)/y_test)*100)\n",
    "print(\"R-square:\",np.round(r2_score(y_test,pred),2))"
   ]
  },
  {
   "cell_type": "markdown",
   "metadata": {},
   "source": [
    "# Random Forest Regressor "
   ]
  },
  {
   "cell_type": "code",
   "execution_count": 282,
   "metadata": {},
   "outputs": [
    {
     "name": "stdout",
     "output_type": "stream",
     "text": [
      "Mse: 65892552.9405001\n",
      "Rmse: 8117.4228016347715\n",
      "Mape: 17.647620136089504\n",
      "R-square: 0.5\n"
     ]
    }
   ],
   "source": [
    "from sklearn.ensemble import RandomForestRegressor\n",
    "\n",
    "rf = RandomForestRegressor(n_estimators=200,random_state=101)\n",
    "rf.fit(X_train,y_train)\n",
    "pred = rf.predict(X_test)\n",
    "print(\"Mse:\",mean_squared_error(y_test,pred))\n",
    "rms =np.sqrt(mean_squared_error(y_test,pred))\n",
    "print(\"Rmse:\",rms)\n",
    "# print(\"Mape:\",mean_absolute_percentage_error(y_test,pred))\n",
    "print(\"Mape:\",np.mean(np.abs(y_test-pred)/y_test)*100)\n",
    "print(\"R-square:\",np.round(r2_score(y_test,pred),2))"
   ]
  },
  {
   "cell_type": "markdown",
   "metadata": {},
   "source": [
    "#  XG-Boost Regressor "
   ]
  },
  {
   "cell_type": "code",
   "execution_count": 292,
   "metadata": {},
   "outputs": [
    {
     "name": "stdout",
     "output_type": "stream",
     "text": [
      "Mse: 62440745.098447084\n",
      "Rmse: 7901.945652714088\n",
      "Mape: 17.805854034716113\n",
      "R-square: 0.53\n"
     ]
    }
   ],
   "source": [
    "import xgboost as Xgb\n",
    "xgb = Xgb.XGBRegressor(random_state=101,learning_rate=0.3)\n",
    "\n",
    "xgb.fit(X_train,y_train)\n",
    "pred = xgb.predict(X_test)\n",
    "print(\"Mse:\",mean_squared_error(y_test,pred))\n",
    "rms = np.sqrt(mean_squared_error(y_test,pred))\n",
    "print(\"Rmse:\",rms)\n",
    "print(\"Mape:\",np.mean(np.abs(y_test-pred)/y_test)*100)\n",
    "print(\"R-square:\",np.round(r2_score(y_test,pred),2))\n",
    "print()"
   ]
  },
  {
   "cell_type": "markdown",
   "metadata": {},
   "source": [
    "## Without Splitting the Data"
   ]
  },
  {
   "cell_type": "code",
   "execution_count": 334,
   "metadata": {},
   "outputs": [
    {
     "data": {
      "text/html": [
       "<div>\n",
       "<style scoped>\n",
       "    .dataframe tbody tr th:only-of-type {\n",
       "        vertical-align: middle;\n",
       "    }\n",
       "\n",
       "    .dataframe tbody tr th {\n",
       "        vertical-align: top;\n",
       "    }\n",
       "\n",
       "    .dataframe thead th {\n",
       "        text-align: right;\n",
       "    }\n",
       "</style>\n",
       "<table border=\"1\" class=\"dataframe\">\n",
       "  <thead>\n",
       "    <tr style=\"text-align: right;\">\n",
       "      <th></th>\n",
       "      <th>vehicle_id</th>\n",
       "      <th>Curb_Weight</th>\n",
       "      <th>Price_USD</th>\n",
       "      <th>year</th>\n",
       "    </tr>\n",
       "  </thead>\n",
       "  <tbody>\n",
       "    <tr>\n",
       "      <th>0</th>\n",
       "      <td>2</td>\n",
       "      <td>1729.0</td>\n",
       "      <td>33285.00000</td>\n",
       "      <td>2010</td>\n",
       "    </tr>\n",
       "    <tr>\n",
       "      <th>1</th>\n",
       "      <td>4</td>\n",
       "      <td>1305.0</td>\n",
       "      <td>24535.71429</td>\n",
       "      <td>2010</td>\n",
       "    </tr>\n",
       "    <tr>\n",
       "      <th>2</th>\n",
       "      <td>5</td>\n",
       "      <td>1305.0</td>\n",
       "      <td>26268.75000</td>\n",
       "      <td>2010</td>\n",
       "    </tr>\n",
       "    <tr>\n",
       "      <th>3</th>\n",
       "      <td>8</td>\n",
       "      <td>1725.0</td>\n",
       "      <td>35925.00000</td>\n",
       "      <td>2010</td>\n",
       "    </tr>\n",
       "    <tr>\n",
       "      <th>4</th>\n",
       "      <td>9</td>\n",
       "      <td>1574.0</td>\n",
       "      <td>26780.00000</td>\n",
       "      <td>2010</td>\n",
       "    </tr>\n",
       "  </tbody>\n",
       "</table>\n",
       "</div>"
      ],
      "text/plain": [
       "   vehicle_id  Curb_Weight    Price_USD  year\n",
       "0           2       1729.0  33285.00000  2010\n",
       "1           4       1305.0  24535.71429  2010\n",
       "2           5       1305.0  26268.75000  2010\n",
       "3           8       1725.0  35925.00000  2010\n",
       "4           9       1574.0  26780.00000  2010"
      ]
     },
     "execution_count": 334,
     "metadata": {},
     "output_type": "execute_result"
    }
   ],
   "source": [
    "clean_data.head()"
   ]
  },
  {
   "cell_type": "code",
   "execution_count": 346,
   "metadata": {},
   "outputs": [
    {
     "data": {
      "text/html": [
       "<div>\n",
       "<style scoped>\n",
       "    .dataframe tbody tr th:only-of-type {\n",
       "        vertical-align: middle;\n",
       "    }\n",
       "\n",
       "    .dataframe tbody tr th {\n",
       "        vertical-align: top;\n",
       "    }\n",
       "\n",
       "    .dataframe thead th {\n",
       "        text-align: right;\n",
       "    }\n",
       "</style>\n",
       "<table border=\"1\" class=\"dataframe\">\n",
       "  <thead>\n",
       "    <tr style=\"text-align: right;\">\n",
       "      <th></th>\n",
       "      <th>vehicle_id</th>\n",
       "      <th>Curb_Weight</th>\n",
       "      <th>Price_USD</th>\n",
       "      <th>year</th>\n",
       "    </tr>\n",
       "  </thead>\n",
       "  <tbody>\n",
       "    <tr>\n",
       "      <th>count</th>\n",
       "      <td>5463.000000</td>\n",
       "      <td>5463.000000</td>\n",
       "      <td>5463.000000</td>\n",
       "      <td>5463.000000</td>\n",
       "    </tr>\n",
       "    <tr>\n",
       "      <th>mean</th>\n",
       "      <td>10077.480322</td>\n",
       "      <td>1835.374098</td>\n",
       "      <td>32199.442074</td>\n",
       "      <td>2010.647813</td>\n",
       "    </tr>\n",
       "    <tr>\n",
       "      <th>std</th>\n",
       "      <td>6558.537928</td>\n",
       "      <td>476.221233</td>\n",
       "      <td>11331.375551</td>\n",
       "      <td>0.798936</td>\n",
       "    </tr>\n",
       "    <tr>\n",
       "      <th>min</th>\n",
       "      <td>2.000000</td>\n",
       "      <td>749.000000</td>\n",
       "      <td>9970.000000</td>\n",
       "      <td>2010.000000</td>\n",
       "    </tr>\n",
       "    <tr>\n",
       "      <th>25%</th>\n",
       "      <td>3070.500000</td>\n",
       "      <td>1487.000000</td>\n",
       "      <td>23497.386750</td>\n",
       "      <td>2010.000000</td>\n",
       "    </tr>\n",
       "    <tr>\n",
       "      <th>50%</th>\n",
       "      <td>11217.000000</td>\n",
       "      <td>1734.786333</td>\n",
       "      <td>30107.796210</td>\n",
       "      <td>2010.000000</td>\n",
       "    </tr>\n",
       "    <tr>\n",
       "      <th>75%</th>\n",
       "      <td>15556.500000</td>\n",
       "      <td>2095.995810</td>\n",
       "      <td>39410.519570</td>\n",
       "      <td>2011.000000</td>\n",
       "    </tr>\n",
       "    <tr>\n",
       "      <th>max</th>\n",
       "      <td>20083.000000</td>\n",
       "      <td>3150.000000</td>\n",
       "      <td>64230.000000</td>\n",
       "      <td>2012.000000</td>\n",
       "    </tr>\n",
       "  </tbody>\n",
       "</table>\n",
       "</div>"
      ],
      "text/plain": [
       "         vehicle_id  Curb_Weight     Price_USD         year\n",
       "count   5463.000000  5463.000000   5463.000000  5463.000000\n",
       "mean   10077.480322  1835.374098  32199.442074  2010.647813\n",
       "std     6558.537928   476.221233  11331.375551     0.798936\n",
       "min        2.000000   749.000000   9970.000000  2010.000000\n",
       "25%     3070.500000  1487.000000  23497.386750  2010.000000\n",
       "50%    11217.000000  1734.786333  30107.796210  2010.000000\n",
       "75%    15556.500000  2095.995810  39410.519570  2011.000000\n",
       "max    20083.000000  3150.000000  64230.000000  2012.000000"
      ]
     },
     "execution_count": 346,
     "metadata": {},
     "output_type": "execute_result"
    }
   ],
   "source": [
    "clean_data.describe()"
   ]
  },
  {
   "cell_type": "code",
   "execution_count": 301,
   "metadata": {},
   "outputs": [],
   "source": [
    "# plt.figure(figsize=(8,8))\n",
    "# sns.heatmap(clean_data.drop([\"vehicle_id\"],axis=1).corr(),annot=True)"
   ]
  },
  {
   "cell_type": "code",
   "execution_count": null,
   "metadata": {},
   "outputs": [],
   "source": []
  },
  {
   "cell_type": "code",
   "execution_count": 318,
   "metadata": {},
   "outputs": [],
   "source": [
    "X=clean_data.iloc[:,[1,3]]\n",
    "y=clean_data.iloc[:,2]"
   ]
  },
  {
   "cell_type": "code",
   "execution_count": 337,
   "metadata": {},
   "outputs": [
    {
     "name": "stdout",
     "output_type": "stream",
     "text": [
      "Coefficients:  [   14.89130598 -1058.36513368]\n",
      "Intercept:  2132867.865716252\n",
      "Mse: 80803143.70286638\n",
      "Rmse: 8989.056886173676\n",
      "Mape: 22.227160356173588\n",
      "R-square: 0.37\n",
      "0.37057716391010753\n"
     ]
    }
   ],
   "source": [
    "regr =LinearRegression()\n",
    "# regr=LinearRegression\n",
    "regr.fit(X,y)\n",
    "pred=regr.predict(X)\n",
    "# The coefficients\n",
    "print ('Coefficients: ', regr.coef_)\n",
    "print ('Intercept: ',regr.intercept_)\n",
    "    \n",
    "       \n",
    "print(\"Mse:\",mean_squared_error(y,pred))\n",
    "rms = np.sqrt(mean_squared_error(y,pred))\n",
    "print(\"Rmse:\",rms)\n",
    "print(\"Mape:\",np.mean(np.abs(y-pred)/y)*100)\n",
    "print(\"R-square:\",np.round(r2_score(y,pred),2))\n",
    "print(regr.score(X,y))"
   ]
  },
  {
   "cell_type": "code",
   "execution_count": null,
   "metadata": {},
   "outputs": [],
   "source": []
  },
  {
   "cell_type": "code",
   "execution_count": 343,
   "metadata": {},
   "outputs": [
    {
     "name": "stdout",
     "output_type": "stream",
     "text": [
      "Mse: 21102643.947471097\n",
      "Rmse: 4593.76141603709\n",
      "Mape: 9.487729592281779\n",
      "R-square: 0.84\n",
      "0.8356191925990463\n"
     ]
    }
   ],
   "source": [
    "rf = RandomForestRegressor(n_estimators=200,random_state=101)\n",
    "rf.fit(X,y)\n",
    "pred = rf.predict(X)\n",
    "print(\"Mse:\",mean_squared_error(y,pred))\n",
    "rms =np.sqrt(mean_squared_error(y,pred))\n",
    "print(\"Rmse:\",rms)\n",
    "# print(\"Mape:\",mean_absolute_percentage_error(y_test,pred))\n",
    "print(\"Mape:\",np.mean(np.abs(y-pred)/y)*100)\n",
    "print(\"R-square:\",np.round(r2_score(y,pred),2))\n",
    "print(rf.score(X,y))"
   ]
  },
  {
   "cell_type": "code",
   "execution_count": null,
   "metadata": {},
   "outputs": [],
   "source": []
  },
  {
   "cell_type": "code",
   "execution_count": 344,
   "metadata": {},
   "outputs": [
    {
     "name": "stdout",
     "output_type": "stream",
     "text": [
      "Mse: 36980769.39533594\n",
      "Rmse: 6081.181578882179\n",
      "Mape: 13.746664577419937\n",
      "R-square: 0.7119352083726793\n",
      "0.7119352083726793\n"
     ]
    }
   ],
   "source": [
    "xgb = Xgb.XGBRegressor(random_state=101,learning_rate=0.3)\n",
    "xgb = xgb.fit(X,y)\n",
    "pred = xgb.predict(X)\n",
    "print(\"Mse:\",mean_squared_error(y,pred))\n",
    "rms = np.sqrt(mean_squared_error(y,pred))\n",
    "print(\"Rmse:\",rms)\n",
    "print(\"Mape:\",np.mean(np.abs(y-pred)/y)*100)\n",
    "print(\"R-square:\",r2_score(y,pred))\n",
    "print(xgb.score(X,y))"
   ]
  },
  {
   "cell_type": "code",
   "execution_count": null,
   "metadata": {},
   "outputs": [],
   "source": []
  },
  {
   "cell_type": "code",
   "execution_count": null,
   "metadata": {},
   "outputs": [],
   "source": []
  },
  {
   "cell_type": "code",
   "execution_count": null,
   "metadata": {},
   "outputs": [],
   "source": []
  },
  {
   "cell_type": "code",
   "execution_count": null,
   "metadata": {},
   "outputs": [],
   "source": []
  },
  {
   "cell_type": "code",
   "execution_count": null,
   "metadata": {},
   "outputs": [],
   "source": []
  },
  {
   "cell_type": "markdown",
   "metadata": {},
   "source": [
    "# TEST DATA"
   ]
  },
  {
   "cell_type": "code",
   "execution_count": 372,
   "metadata": {},
   "outputs": [],
   "source": [
    "test_data=pd.read_csv(r'C:\\Users\\Mizgaan\\Downloads\\Data_Sets\\oos_sample(1).csv')\n",
    "\n",
    "test_data[\"Curb_Weight\"] = (test_data[\"Curb_Weight\"])\n",
    "test_data[\"year\"] = (test_data[\"year\"])\n"
   ]
  },
  {
   "cell_type": "code",
   "execution_count": 373,
   "metadata": {},
   "outputs": [],
   "source": [
    "X = test_data.iloc[:,[1,2]]"
   ]
  },
  {
   "cell_type": "code",
   "execution_count": 379,
   "metadata": {},
   "outputs": [
    {
     "data": {
      "text/html": [
       "<div>\n",
       "<style scoped>\n",
       "    .dataframe tbody tr th:only-of-type {\n",
       "        vertical-align: middle;\n",
       "    }\n",
       "\n",
       "    .dataframe tbody tr th {\n",
       "        vertical-align: top;\n",
       "    }\n",
       "\n",
       "    .dataframe thead th {\n",
       "        text-align: right;\n",
       "    }\n",
       "</style>\n",
       "<table border=\"1\" class=\"dataframe\">\n",
       "  <thead>\n",
       "    <tr style=\"text-align: right;\">\n",
       "      <th></th>\n",
       "      <th>vehicle_id</th>\n",
       "      <th>Curb_Weight</th>\n",
       "      <th>year</th>\n",
       "      <th>Price_USD</th>\n",
       "    </tr>\n",
       "  </thead>\n",
       "  <tbody>\n",
       "    <tr>\n",
       "      <th>0</th>\n",
       "      <td>20090</td>\n",
       "      <td>1874.0</td>\n",
       "      <td>2013</td>\n",
       "      <td>33304.863281</td>\n",
       "    </tr>\n",
       "    <tr>\n",
       "      <th>1</th>\n",
       "      <td>20091</td>\n",
       "      <td>2005.0</td>\n",
       "      <td>2013</td>\n",
       "      <td>35946.945312</td>\n",
       "    </tr>\n",
       "    <tr>\n",
       "      <th>2</th>\n",
       "      <td>20092</td>\n",
       "      <td>2599.0</td>\n",
       "      <td>2013</td>\n",
       "      <td>44107.867188</td>\n",
       "    </tr>\n",
       "    <tr>\n",
       "      <th>3</th>\n",
       "      <td>20095</td>\n",
       "      <td>2053.0</td>\n",
       "      <td>2013</td>\n",
       "      <td>36862.046875</td>\n",
       "    </tr>\n",
       "    <tr>\n",
       "      <th>4</th>\n",
       "      <td>20096</td>\n",
       "      <td>1415.0</td>\n",
       "      <td>2013</td>\n",
       "      <td>23127.917969</td>\n",
       "    </tr>\n",
       "  </tbody>\n",
       "</table>\n",
       "</div>"
      ],
      "text/plain": [
       "   vehicle_id  Curb_Weight  year     Price_USD\n",
       "0       20090       1874.0  2013  33304.863281\n",
       "1       20091       2005.0  2013  35946.945312\n",
       "2       20092       2599.0  2013  44107.867188\n",
       "3       20095       2053.0  2013  36862.046875\n",
       "4       20096       1415.0  2013  23127.917969"
      ]
     },
     "execution_count": 379,
     "metadata": {},
     "output_type": "execute_result"
    }
   ],
   "source": [
    "#XG Boost Regressor\n",
    "test_data[\"Price_USD\"] = xgb.predict(X)\n",
    "\n",
    "test_data.head()"
   ]
  },
  {
   "cell_type": "code",
   "execution_count": 380,
   "metadata": {},
   "outputs": [
    {
     "data": {
      "text/plain": [
       "<matplotlib.axes._subplots.AxesSubplot at 0x21afa3259e8>"
      ]
     },
     "execution_count": 380,
     "metadata": {},
     "output_type": "execute_result"
    },
    {
     "data": {
      "image/png": "[encoded data removed]",
      "text/plain": [
       "<Figure size 432x288 with 1 Axes>"
      ]
     },
     "metadata": {
      "needs_background": "light"
     },
     "output_type": "display_data"
    }
   ],
   "source": [
    "sns.boxplot(y=test_data.Price_USD)"
   ]
  },
  {
   "cell_type": "code",
   "execution_count": null,
   "metadata": {},
   "outputs": [],
   "source": []
  },
  {
   "cell_type": "code",
   "execution_count": 381,
   "metadata": {},
   "outputs": [
    {
     "data": {
      "text/html": [
       "<div>\n",
       "<style scoped>\n",
       "    .dataframe tbody tr th:only-of-type {\n",
       "        vertical-align: middle;\n",
       "    }\n",
       "\n",
       "    .dataframe tbody tr th {\n",
       "        vertical-align: top;\n",
       "    }\n",
       "\n",
       "    .dataframe thead th {\n",
       "        text-align: right;\n",
       "    }\n",
       "</style>\n",
       "<table border=\"1\" class=\"dataframe\">\n",
       "  <thead>\n",
       "    <tr style=\"text-align: right;\">\n",
       "      <th></th>\n",
       "      <th>vehicle_id</th>\n",
       "      <th>Curb_Weight</th>\n",
       "      <th>year</th>\n",
       "      <th>Price_USD</th>\n",
       "    </tr>\n",
       "  </thead>\n",
       "  <tbody>\n",
       "    <tr>\n",
       "      <th>0</th>\n",
       "      <td>20090</td>\n",
       "      <td>1874.0</td>\n",
       "      <td>2013</td>\n",
       "      <td>31496.511875</td>\n",
       "    </tr>\n",
       "    <tr>\n",
       "      <th>1</th>\n",
       "      <td>20091</td>\n",
       "      <td>2005.0</td>\n",
       "      <td>2013</td>\n",
       "      <td>41282.820653</td>\n",
       "    </tr>\n",
       "    <tr>\n",
       "      <th>2</th>\n",
       "      <td>20092</td>\n",
       "      <td>2599.0</td>\n",
       "      <td>2013</td>\n",
       "      <td>46414.238533</td>\n",
       "    </tr>\n",
       "    <tr>\n",
       "      <th>3</th>\n",
       "      <td>20095</td>\n",
       "      <td>2053.0</td>\n",
       "      <td>2013</td>\n",
       "      <td>37789.334350</td>\n",
       "    </tr>\n",
       "    <tr>\n",
       "      <th>4</th>\n",
       "      <td>20096</td>\n",
       "      <td>1415.0</td>\n",
       "      <td>2013</td>\n",
       "      <td>22750.832912</td>\n",
       "    </tr>\n",
       "  </tbody>\n",
       "</table>\n",
       "</div>"
      ],
      "text/plain": [
       "   vehicle_id  Curb_Weight  year     Price_USD\n",
       "0       20090       1874.0  2013  31496.511875\n",
       "1       20091       2005.0  2013  41282.820653\n",
       "2       20092       2599.0  2013  46414.238533\n",
       "3       20095       2053.0  2013  37789.334350\n",
       "4       20096       1415.0  2013  22750.832912"
      ]
     },
     "execution_count": 381,
     "metadata": {},
     "output_type": "execute_result"
    }
   ],
   "source": [
    "#Random Forest Regressor\n",
    "test_data[\"Price_USD\"] = rf.predict(X)\n",
    "test_data.head()"
   ]
  },
  {
   "cell_type": "code",
   "execution_count": 382,
   "metadata": {
    "scrolled": true
   },
   "outputs": [
    {
     "data": {
      "text/plain": [
       "<matplotlib.axes._subplots.AxesSubplot at 0x21aea4e82b0>"
      ]
     },
     "execution_count": 382,
     "metadata": {},
     "output_type": "execute_result"
    },
    {
     "data": {
      "image/png": "[encoded data removed]",
      "text/plain": [
       "<Figure size 432x288 with 1 Axes>"
      ]
     },
     "metadata": {
      "needs_background": "light"
     },
     "output_type": "display_data"
    }
   ],
   "source": [
    "sns.boxplot(y=test_data.Price_USD)"
   ]
  },
  {
   "cell_type": "code",
   "execution_count": null,
   "metadata": {},
   "outputs": [],
   "source": []
  },
  {
   "cell_type": "code",
   "execution_count": 376,
   "metadata": {},
   "outputs": [
    {
     "data": {
      "text/html": [
       "<div>\n",
       "<style scoped>\n",
       "    .dataframe tbody tr th:only-of-type {\n",
       "        vertical-align: middle;\n",
       "    }\n",
       "\n",
       "    .dataframe tbody tr th {\n",
       "        vertical-align: top;\n",
       "    }\n",
       "\n",
       "    .dataframe thead th {\n",
       "        text-align: right;\n",
       "    }\n",
       "</style>\n",
       "<table border=\"1\" class=\"dataframe\">\n",
       "  <thead>\n",
       "    <tr style=\"text-align: right;\">\n",
       "      <th></th>\n",
       "      <th>vehicle_id</th>\n",
       "      <th>Curb_Weight</th>\n",
       "      <th>year</th>\n",
       "      <th>Price_USD</th>\n",
       "    </tr>\n",
       "  </thead>\n",
       "  <tbody>\n",
       "    <tr>\n",
       "      <th>0</th>\n",
       "      <td>20090</td>\n",
       "      <td>1874.0</td>\n",
       "      <td>2013</td>\n",
       "      <td>30285.159029</td>\n",
       "    </tr>\n",
       "    <tr>\n",
       "      <th>1</th>\n",
       "      <td>20091</td>\n",
       "      <td>2005.0</td>\n",
       "      <td>2013</td>\n",
       "      <td>32235.920113</td>\n",
       "    </tr>\n",
       "    <tr>\n",
       "      <th>2</th>\n",
       "      <td>20092</td>\n",
       "      <td>2599.0</td>\n",
       "      <td>2013</td>\n",
       "      <td>41081.355867</td>\n",
       "    </tr>\n",
       "    <tr>\n",
       "      <th>3</th>\n",
       "      <td>20095</td>\n",
       "      <td>2053.0</td>\n",
       "      <td>2013</td>\n",
       "      <td>32950.702800</td>\n",
       "    </tr>\n",
       "    <tr>\n",
       "      <th>4</th>\n",
       "      <td>20096</td>\n",
       "      <td>1415.0</td>\n",
       "      <td>2013</td>\n",
       "      <td>23450.049582</td>\n",
       "    </tr>\n",
       "  </tbody>\n",
       "</table>\n",
       "</div>"
      ],
      "text/plain": [
       "   vehicle_id  Curb_Weight  year     Price_USD\n",
       "0       20090       1874.0  2013  30285.159029\n",
       "1       20091       2005.0  2013  32235.920113\n",
       "2       20092       2599.0  2013  41081.355867\n",
       "3       20095       2053.0  2013  32950.702800\n",
       "4       20096       1415.0  2013  23450.049582"
      ]
     },
     "execution_count": 376,
     "metadata": {},
     "output_type": "execute_result"
    }
   ],
   "source": [
    "#Linear Regressor\n",
    "test_data[\"Price_USD\"] = regr.predict(X)\n",
    "test_data.head()"
   ]
  },
  {
   "cell_type": "code",
   "execution_count": 384,
   "metadata": {},
   "outputs": [
    {
     "data": {
      "text/plain": [
       "<matplotlib.axes._subplots.AxesSubplot at 0x21afaa886a0>"
      ]
     },
     "execution_count": 384,
     "metadata": {},
     "output_type": "execute_result"
    },
    {
     "data": {
      "image/png": "[encoded data removed]",
      "text/plain": [
       "<Figure size 432x288 with 1 Axes>"
      ]
     },
     "metadata": {
      "needs_background": "light"
     },
     "output_type": "display_data"
    }
   ],
   "source": [
    "sns.boxplot(y=test_data.Price_USD)"
   ]
  },
  {
   "cell_type": "code",
   "execution_count": 394,
   "metadata": {},
   "outputs": [],
   "source": [
    "test_data.to_csv(\"ihs_submission_15.csv\",index=False)"
   ]
  },
  {
   "cell_type": "code",
   "execution_count": 243,
   "metadata": {},
   "outputs": [],
   "source": [
    "# data[\"Lr\"]=regr.coef_*X_train + regr.intercept_\n"
   ]
  },
  {
   "cell_type": "code",
   "execution_count": 248,
   "metadata": {},
   "outputs": [],
   "source": [
    "# plt.scatter(dataset[\"Curb_Weight\"], dataset[\"Price_USD\"],  color='blue')\n",
    "# plt.plot(X, regr.coef_*X + regr.intercept_, '-r')\n",
    "# plt.xlabel(\"Engine size\")\n",
    "# plt.ylabel(\"Emission\")"
   ]
  },
  {
   "cell_type": "code",
   "execution_count": null,
   "metadata": {},
   "outputs": [],
   "source": []
  },
  {
   "cell_type": "code",
   "execution_count": null,
   "metadata": {},
   "outputs": [],
   "source": []
  },
  {
   "cell_type": "code",
   "execution_count": null,
   "metadata": {},
   "outputs": [],
   "source": []
  },
  {
   "cell_type": "code",
   "execution_count": null,
   "metadata": {},
   "outputs": [],
   "source": []
  }
 ],
 "metadata": {
  "kernelspec": {
   "display_name": "Python 3",
   "language": "python",
   "name": "python3"
  },
  "language_info": {
   "codemirror_mode": {
    "name": "ipython",
    "version": 3
   },
   "file_extension": ".py",
   "mimetype": "text/x-python",
   "name": "python",
   "nbconvert_exporter": "python",
   "pygments_lexer": "ipython3",
   "version": "3.7.3"
  }
 },
 "nbformat": 4,
 "nbformat_minor": 2
}
